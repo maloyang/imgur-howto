{
 "cells": [
  {
   "cell_type": "markdown",
   "metadata": {
    "deletable": true,
    "editable": true
   },
   "source": [
    "# imgur howto\n",
    "- upload image\n",
    "- create album\n",
    "- upload image into album\n"
   ]
  },
  {
   "cell_type": "code",
   "execution_count": 3,
   "metadata": {
    "collapsed": true,
    "deletable": true,
    "editable": true
   },
   "outputs": [],
   "source": [
    "# pip install imgurpython\n",
    "from imgurpython import ImgurClient\n",
    "import time"
   ]
  },
  {
   "cell_type": "markdown",
   "metadata": {
    "deletable": true,
    "editable": true
   },
   "source": [
    "- you need register a account for imgur\n",
    "- refer \"https://github.com/Imgur/imgurpython\" to basic api\n",
    "- refer \"https://github.com/Imgur/imgurpython/blob/master/examples/auth.py\" to get \"access_token\" and \"refresh_token\"\n",
    "- "
   ]
  },
  {
   "cell_type": "code",
   "execution_count": 4,
   "metadata": {
    "collapsed": true,
    "deletable": true,
    "editable": true
   },
   "outputs": [],
   "source": [
    "\n",
    "client_id = 'your client_id'\n",
    "client_secret = 'your client_secret'\n",
    "access_token = 'your access_token'\n",
    "refresh_token = 'your refresh_token'\n",
    "\n",
    "client = ImgurClient(client_id, client_secret, access_token, refresh_token)"
   ]
  },
  {
   "cell_type": "code",
   "execution_count": 5,
   "metadata": {
    "collapsed": false,
    "deletable": true,
    "editable": true
   },
   "outputs": [
    {
     "name": "stdout",
     "output_type": "stream",
     "text": [
      "{u'deletehash': u'yptmeJzgoL64HZC', u'id': u'rw3jf'}\n",
      "-- my_album --\n",
      "<imgurpython.imgur.models.album.Album object at 0x044EA330>\n"
     ]
    }
   ],
   "source": [
    "# create a album\n",
    "album_config = {'title': 'test-album'}\n",
    "res = client.create_album(album_config)\n",
    "print(res)\n",
    "my_album_id = res['id']\n",
    "my_album = client.get_album(my_album_id)\n",
    "print('-- my_album --')\n",
    "print(my_album)"
   ]
  },
  {
   "cell_type": "code",
   "execution_count": 7,
   "metadata": {
    "collapsed": false,
    "deletable": true,
    "editable": true
   },
   "outputs": [
    {
     "data": {
      "text/plain": [
       "{'account_id': 72361143,\n",
       " 'account_url': u'YgumaYang',\n",
       " 'cover': None,\n",
       " 'cover_height': None,\n",
       " 'cover_width': None,\n",
       " 'datetime': 1508203175,\n",
       " 'deletehash': u'yptmeJzgoL64HZC',\n",
       " 'description': None,\n",
       " 'favorite': False,\n",
       " 'id': u'rw3jf',\n",
       " 'images': [],\n",
       " 'images_count': 0,\n",
       " 'in_gallery': False,\n",
       " 'is_ad': False,\n",
       " 'layout': u'blog',\n",
       " 'link': u'https://imgur.com/a/rw3jf',\n",
       " 'nsfw': None,\n",
       " 'privacy': u'public',\n",
       " 'section': None,\n",
       " 'title': u'test-album',\n",
       " 'views': 0}"
      ]
     },
     "execution_count": 7,
     "metadata": {},
     "output_type": "execute_result"
    }
   ],
   "source": [
    "my_album.__dict__"
   ]
  },
  {
   "cell_type": "code",
   "execution_count": 8,
   "metadata": {
    "collapsed": false,
    "deletable": true,
    "editable": true
   },
   "outputs": [
    {
     "data": {
      "text/plain": [
       "{u'account_id': 72361143,\n",
       " u'account_url': None,\n",
       " u'ad_type': 0,\n",
       " u'ad_url': u'',\n",
       " u'animated': False,\n",
       " u'bandwidth': 0,\n",
       " u'datetime': 1508203330,\n",
       " u'deletehash': u'lpOwE7n7B4RPFkC',\n",
       " u'description': u'image1-description',\n",
       " u'favorite': False,\n",
       " u'has_sound': False,\n",
       " u'height': 480,\n",
       " u'id': u'NfXD1fZ',\n",
       " u'in_gallery': False,\n",
       " u'in_most_viral': False,\n",
       " u'is_ad': False,\n",
       " u'link': u'https://i.imgur.com/NfXD1fZ.jpg',\n",
       " u'name': u'image1',\n",
       " u'nsfw': None,\n",
       " u'section': None,\n",
       " u'size': 101603,\n",
       " u'tags': [],\n",
       " u'title': u'image1-title',\n",
       " u'type': u'image/jpeg',\n",
       " u'views': 0,\n",
       " u'vote': None,\n",
       " u'width': 640}"
      ]
     },
     "execution_count": 8,
     "metadata": {},
     "output_type": "execute_result"
    }
   ],
   "source": [
    "fn = './imgur-howto-image/lastpic.jpg'\n",
    "# upload image to a album\n",
    "config = {'album': my_album.id, 'name':'image1', 'title':'image1-title', 'description':'image1-description'}\n",
    "res = client.upload_from_path(fn, config=config, anon=False)\n",
    "res"
   ]
  },
  {
   "cell_type": "code",
   "execution_count": 9,
   "metadata": {
    "collapsed": true,
    "deletable": true,
    "editable": true
   },
   "outputs": [],
   "source": [
    "#-- upload image 2\n",
    "fn2 = './imgur-howto-image/image2.jpg'\n",
    "# upload image to a album\n",
    "config = {'album': my_album.id, 'name':'image2', 'title':'image2-title', 'description':'image2-description'}\n",
    "res = client.upload_from_path(fn2, config=config, anon=False)"
   ]
  },
  {
   "cell_type": "markdown",
   "metadata": {
    "deletable": true,
    "editable": true
   },
   "source": [
    "## check album"
   ]
  },
  {
   "cell_type": "code",
   "execution_count": 10,
   "metadata": {
    "collapsed": false,
    "deletable": true,
    "editable": true
   },
   "outputs": [
    {
     "data": {
      "text/plain": [
       "{'account_id': 72361143,\n",
       " 'account_url': u'YgumaYang',\n",
       " 'cover': None,\n",
       " 'cover_height': None,\n",
       " 'cover_width': None,\n",
       " 'datetime': 1508203175,\n",
       " 'deletehash': u'yptmeJzgoL64HZC',\n",
       " 'description': None,\n",
       " 'favorite': False,\n",
       " 'id': u'rw3jf',\n",
       " 'images': [],\n",
       " 'images_count': 0,\n",
       " 'in_gallery': False,\n",
       " 'is_ad': False,\n",
       " 'layout': u'blog',\n",
       " 'link': u'https://imgur.com/a/rw3jf',\n",
       " 'nsfw': None,\n",
       " 'privacy': u'public',\n",
       " 'section': None,\n",
       " 'title': u'test-album',\n",
       " 'views': 0}"
      ]
     },
     "execution_count": 10,
     "metadata": {},
     "output_type": "execute_result"
    }
   ],
   "source": [
    "my_album.__dict__"
   ]
  },
  {
   "cell_type": "code",
   "execution_count": 11,
   "metadata": {
    "collapsed": false,
    "deletable": true,
    "editable": true
   },
   "outputs": [
    {
     "data": {
      "text/plain": [
       "{'account_id': 72361143,\n",
       " 'account_url': u'YgumaYang',\n",
       " 'cover': u'NfXD1fZ',\n",
       " 'cover_height': 480,\n",
       " 'cover_width': 640,\n",
       " 'datetime': 1508203175,\n",
       " 'deletehash': u'yptmeJzgoL64HZC',\n",
       " 'description': None,\n",
       " 'favorite': False,\n",
       " 'id': u'rw3jf',\n",
       " 'images': [{u'account_id': None,\n",
       "   u'account_url': None,\n",
       "   u'ad_type': 0,\n",
       "   u'ad_url': u'',\n",
       "   u'animated': False,\n",
       "   u'bandwidth': 203206,\n",
       "   u'datetime': 1508203330,\n",
       "   u'deletehash': u'lpOwE7n7B4RPFkC',\n",
       "   u'description': u'image1-description',\n",
       "   u'favorite': False,\n",
       "   u'has_sound': False,\n",
       "   u'height': 480,\n",
       "   u'id': u'NfXD1fZ',\n",
       "   u'in_gallery': False,\n",
       "   u'in_most_viral': False,\n",
       "   u'is_ad': False,\n",
       "   u'link': u'https://i.imgur.com/NfXD1fZ.jpg',\n",
       "   u'name': u'image1',\n",
       "   u'nsfw': None,\n",
       "   u'section': None,\n",
       "   u'size': 101603,\n",
       "   u'tags': [],\n",
       "   u'title': u'image1-title',\n",
       "   u'type': u'image/jpeg',\n",
       "   u'views': 2,\n",
       "   u'vote': None,\n",
       "   u'width': 640},\n",
       "  {u'account_id': None,\n",
       "   u'account_url': None,\n",
       "   u'ad_type': 0,\n",
       "   u'ad_url': u'',\n",
       "   u'animated': False,\n",
       "   u'bandwidth': 135552,\n",
       "   u'datetime': 1508203521,\n",
       "   u'deletehash': u'gJyxcSLHLM9yM4E',\n",
       "   u'description': u'image2-description',\n",
       "   u'favorite': False,\n",
       "   u'has_sound': False,\n",
       "   u'height': 480,\n",
       "   u'id': u'oa0v5Kw',\n",
       "   u'in_gallery': False,\n",
       "   u'in_most_viral': False,\n",
       "   u'is_ad': False,\n",
       "   u'link': u'https://i.imgur.com/oa0v5Kw.jpg',\n",
       "   u'name': u'image2',\n",
       "   u'nsfw': None,\n",
       "   u'section': None,\n",
       "   u'size': 67776,\n",
       "   u'tags': [],\n",
       "   u'title': u'image2-title',\n",
       "   u'type': u'image/jpeg',\n",
       "   u'views': 2,\n",
       "   u'vote': None,\n",
       "   u'width': 640}],\n",
       " 'images_count': 2,\n",
       " 'in_gallery': False,\n",
       " 'is_ad': False,\n",
       " 'layout': u'blog',\n",
       " 'link': u'https://imgur.com/a/rw3jf',\n",
       " 'nsfw': None,\n",
       " 'privacy': u'public',\n",
       " 'section': None,\n",
       " 'title': u'test-album',\n",
       " 'views': 1}"
      ]
     },
     "execution_count": 11,
     "metadata": {},
     "output_type": "execute_result"
    }
   ],
   "source": [
    "my_album = client.get_album(my_album_id)\n",
    "my_album.__dict__"
   ]
  },
  {
   "cell_type": "code",
   "execution_count": null,
   "metadata": {
    "collapsed": true,
    "deletable": true,
    "editable": true
   },
   "outputs": [],
   "source": [
    "# 可以在 album['images']中看到二張圖片的資訊\n",
    "# 因此只要把album記起來，要查圖片就很簡單，不用把圖片的連結存起來待查\n"
   ]
  },
  {
   "cell_type": "code",
   "execution_count": 17,
   "metadata": {
    "collapsed": false,
    "deletable": true,
    "editable": true
   },
   "outputs": [
    {
     "name": "stdout",
     "output_type": "stream",
     "text": [
      "2017-10-17 09:37:28\n",
      "2017-10-31 09:37:28\n",
      "('album_time', '2017-10-17 09:19:35')\n",
      "('image_time', '2017-10-17 09:22:10')\n"
     ]
    }
   ],
   "source": [
    "# time operation example\n",
    "strDate = time.strftime(\"%Y-%m-%d %H:%M:%S\", time.localtime(time.time()))\n",
    "print(strDate)\n",
    "strDate_n14 = time.strftime(\"%Y-%m-%d %H:%M:%S\", time.localtime(time.time()+60*60*24*14))\n",
    "print(strDate_n14)\n",
    "\n",
    "# time for image and album\n",
    "album_time = time.strftime(\"%Y-%m-%d %H:%M:%S\", time.localtime(my_album.datetime))\n",
    "print('album_time', album_time)\n",
    "\n",
    "image_time = time.strftime(\"%Y-%m-%d %H:%M:%S\", time.localtime(my_album.images[0]['datetime']))\n",
    "print('image_time', image_time)"
   ]
  },
  {
   "cell_type": "code",
   "execution_count": 19,
   "metadata": {
    "collapsed": false,
    "deletable": true,
    "editable": true
   },
   "outputs": [
    {
     "data": {
      "text/plain": [
       "u'https://imgur.com/a/rw3jf'"
      ]
     },
     "execution_count": 19,
     "metadata": {},
     "output_type": "execute_result"
    }
   ],
   "source": [
    "# album link and image link\n",
    "\n",
    "my_album.link"
   ]
  },
  {
   "cell_type": "code",
   "execution_count": 20,
   "metadata": {
    "collapsed": true,
    "deletable": true,
    "editable": true
   },
   "outputs": [],
   "source": [
    "im1 = my_album.images[0]"
   ]
  },
  {
   "cell_type": "code",
   "execution_count": 21,
   "metadata": {
    "collapsed": false,
    "deletable": true,
    "editable": true
   },
   "outputs": [
    {
     "data": {
      "text/plain": [
       "u'https://i.imgur.com/NfXD1fZ.jpg'"
      ]
     },
     "execution_count": 21,
     "metadata": {},
     "output_type": "execute_result"
    }
   ],
   "source": [
    "im1['link']"
   ]
  },
  {
   "cell_type": "markdown",
   "metadata": {
    "deletable": true,
    "editable": true
   },
   "source": [
    "## upload image, but not in any album"
   ]
  },
  {
   "cell_type": "code",
   "execution_count": 22,
   "metadata": {
    "collapsed": false,
    "deletable": true,
    "editable": true
   },
   "outputs": [
    {
     "data": {
      "text/plain": [
       "{u'account_id': 72361143,\n",
       " u'account_url': None,\n",
       " u'ad_type': 0,\n",
       " u'ad_url': u'',\n",
       " u'animated': False,\n",
       " u'bandwidth': 0,\n",
       " u'datetime': 1508204646,\n",
       " u'deletehash': u'o7Sxo297ESWhQJ9',\n",
       " u'description': None,\n",
       " u'favorite': False,\n",
       " u'has_sound': False,\n",
       " u'height': 480,\n",
       " u'id': u'G4yeWIw',\n",
       " u'in_gallery': False,\n",
       " u'in_most_viral': False,\n",
       " u'is_ad': False,\n",
       " u'link': u'https://i.imgur.com/G4yeWIw.jpg',\n",
       " u'name': u'',\n",
       " u'nsfw': None,\n",
       " u'section': None,\n",
       " u'size': 101603,\n",
       " u'tags': [],\n",
       " u'title': None,\n",
       " u'type': u'image/jpeg',\n",
       " u'views': 0,\n",
       " u'vote': None,\n",
       " u'width': 640}"
      ]
     },
     "execution_count": 22,
     "metadata": {},
     "output_type": "execute_result"
    }
   ],
   "source": [
    "image = client.upload_from_path(fn, anon=False)\n",
    "image"
   ]
  },
  {
   "cell_type": "markdown",
   "metadata": {
    "collapsed": true,
    "deletable": true,
    "editable": true
   },
   "source": [
    "## 補充\n",
    "如果只要借imgur上傳圖片，並沒有要放到自己的帳號中，不需要四個參數建立client, 如下範例："
   ]
  },
  {
   "cell_type": "code",
   "execution_count": null,
   "metadata": {
    "collapsed": true
   },
   "outputs": [],
   "source": [
    "client_id = 'your client_id'\n",
    "client_secret = 'your client_secret'\n",
    "\n",
    "client = ImgurClient(client_id, client_secret)\n",
    "fn = './imgur-howto-image/image.jpg'\n",
    "image = client.upload_from_path(fn, anon=False)"
   ]
  }
 ],
 "metadata": {
  "kernelspec": {
   "display_name": "Python 3",
   "language": "python",
   "name": "python3"
  },
  "language_info": {
   "codemirror_mode": {
    "name": "ipython",
    "version": 3
   },
   "file_extension": ".py",
   "mimetype": "text/x-python",
   "name": "python",
   "nbconvert_exporter": "python",
   "pygments_lexer": "ipython3",
   "version": "3.6.2"
  }
 },
 "nbformat": 4,
 "nbformat_minor": 2
}